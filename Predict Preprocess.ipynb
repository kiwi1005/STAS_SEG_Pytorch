{
 "cells": [
  {
   "cell_type": "markdown",
   "id": "07edec03",
   "metadata": {},
   "source": [
    "# 預測部分"
   ]
  },
  {
   "cell_type": "code",
   "execution_count": 1,
   "id": "ed6c48ea",
   "metadata": {},
   "outputs": [],
   "source": [
    "import os"
   ]
  },
  {
   "cell_type": "markdown",
   "id": "29682c7d",
   "metadata": {},
   "source": [
    "# 1.切換至預測資料夾"
   ]
  },
  {
   "cell_type": "code",
   "execution_count": 3,
   "id": "980c137d",
   "metadata": {},
   "outputs": [
    {
     "name": "stdout",
     "output_type": "stream",
     "text": [
      "C:\\Users\\sheep\\Desktop\\TEST\\SEG_Pytorch\\p\n"
     ]
    }
   ],
   "source": [
    "%cd C:\\Users\\sheep\\Desktop\\TEST\\SEG_Pytorch\\p"
   ]
  },
  {
   "cell_type": "markdown",
   "id": "b5f829fe",
   "metadata": {},
   "source": [
    "# 2.輸入模型位置以及預測的圖片位置  執行A/B其中一個"
   ]
  },
  {
   "cell_type": "code",
   "execution_count": null,
   "id": "aa67388b",
   "metadata": {},
   "outputs": [],
   "source": [
    "model = 'C:/Users/sheep/Desktop/TEST/SEG_Pytorch/pretrain/checkpoint_AAA_V3ver3_100+50+50+80in46+80in11.pth'"
   ]
  },
  {
   "cell_type": "markdown",
   "id": "37749f39",
   "metadata": {},
   "source": [
    "## Pubic Set (A)"
   ]
  },
  {
   "cell_type": "code",
   "execution_count": 4,
   "id": "dabe25e4",
   "metadata": {},
   "outputs": [],
   "source": [
    "input_folder = '../Public_Image/'\n",
    "\n",
    "output_folder = './OUT/'"
   ]
  },
  {
   "cell_type": "markdown",
   "id": "a1fbd03c",
   "metadata": {},
   "source": [
    "## Private Set (B)"
   ]
  },
  {
   "cell_type": "code",
   "execution_count": 8,
   "id": "0656b616",
   "metadata": {},
   "outputs": [],
   "source": [
    "input_folder = '../Private_Image/'\n",
    "\n",
    "output_folder = './OUT_pri/'"
   ]
  },
  {
   "cell_type": "markdown",
   "id": "53ae759a",
   "metadata": {},
   "source": [
    "# 3.將所有圖片的路徑以及輸出位置寫入文字檔"
   ]
  },
  {
   "cell_type": "code",
   "execution_count": 9,
   "id": "850c96e8",
   "metadata": {},
   "outputs": [],
   "source": [
    "with open('predictALL.txt', 'w') as fp:\n",
    "    fp.writelines('-m'+'\\n'+model+'\\n')\n",
    "#     fp.writelines(bilinear+'\\n')\n",
    "    fp.writelines('-i'+'\\n')\n",
    "    for i in os.listdir(input_folder):\n",
    "        fp.write(input_folder+i+'\\n')\n",
    "    fp.write('\\n')\n",
    "    fp.write('-o\\n')\n",
    "    for i in os.listdir(input_folder):\n",
    "        \n",
    "        i = i[:-4]\n",
    "        fp.write(output_folder+i+'.png'+'\\n')"
   ]
  },
  {
   "cell_type": "markdown",
   "id": "a1e11e49",
   "metadata": {},
   "source": [
    "再到terminal執行python predict.py 即可預測\n",
    "\n",
    "成功執行的話會印出圖片大小"
   ]
  },
  {
   "cell_type": "markdown",
   "id": "490e9f9e",
   "metadata": {},
   "source": [
    "# 結束"
   ]
  },
  {
   "cell_type": "code",
   "execution_count": null,
   "id": "8050c521",
   "metadata": {},
   "outputs": [],
   "source": []
  },
  {
   "cell_type": "code",
   "execution_count": null,
   "id": "02bac88c",
   "metadata": {},
   "outputs": [],
   "source": []
  }
 ],
 "metadata": {
  "kernelspec": {
   "display_name": "Python [conda env:py36] *",
   "language": "python",
   "name": "conda-env-py36-py"
  },
  "language_info": {
   "codemirror_mode": {
    "name": "ipython",
    "version": 3
   },
   "file_extension": ".py",
   "mimetype": "text/x-python",
   "name": "python",
   "nbconvert_exporter": "python",
   "pygments_lexer": "ipython3",
   "version": "3.6.13"
  }
 },
 "nbformat": 4,
 "nbformat_minor": 5
}
